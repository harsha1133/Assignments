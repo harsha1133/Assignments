{
 "cells": [
  {
   "cell_type": "code",
   "execution_count": 22,
   "metadata": {},
   "outputs": [],
   "source": [
    "import numpy as np\n",
    "x=np.array([1,2,3,4,5])\n",
    "N=5"
   ]
  },
  {
   "cell_type": "code",
   "execution_count": 14,
   "metadata": {},
   "outputs": [
    {
     "data": {
      "text/plain": [
       "array([[  1,   1,   1,   1,   1],\n",
       "       [ 16,   8,   4,   2,   1],\n",
       "       [ 81,  27,   9,   3,   1],\n",
       "       [256,  64,  16,   4,   1],\n",
       "       [625, 125,  25,   5,   1]], dtype=int32)"
      ]
     },
     "execution_count": 14,
     "metadata": {},
     "output_type": "execute_result"
    }
   ],
   "source": [
    "np.column_stack([x**(N-i-1) for i in range(N)])"
   ]
  },
  {
   "cell_type": "code",
   "execution_count": 13,
   "metadata": {},
   "outputs": [
    {
     "data": {
      "text/plain": [
       "[array([  1,  16,  81, 256, 625], dtype=int32),\n",
       " array([  1,   8,  27,  64, 125], dtype=int32),\n",
       " array([ 1,  4,  9, 16, 25], dtype=int32),\n",
       " array([1, 2, 3, 4, 5], dtype=int32),\n",
       " array([1, 1, 1, 1, 1], dtype=int32)]"
      ]
     },
     "execution_count": 13,
     "metadata": {},
     "output_type": "execute_result"
    }
   ],
   "source": [
    "[x**(N-i-1) for i in range(N)]"
   ]
  },
  {
   "cell_type": "code",
   "execution_count": 9,
   "metadata": {},
   "outputs": [
    {
     "name": "stdout",
     "output_type": "stream",
     "text": [
      "Help on function vander in module numpy:\n",
      "\n",
      "vander(x, N=None, increasing=False)\n",
      "    Generate a Vandermonde matrix.\n",
      "    \n",
      "    The columns of the output matrix are powers of the input vector. The\n",
      "    order of the powers is determined by the `increasing` boolean argument.\n",
      "    Specifically, when `increasing` is False, the `i`-th output column is\n",
      "    the input vector raised element-wise to the power of ``N - i - 1``. Such\n",
      "    a matrix with a geometric progression in each row is named for Alexandre-\n",
      "    Theophile Vandermonde.\n",
      "    \n",
      "    Parameters\n",
      "    ----------\n",
      "    x : array_like\n",
      "        1-D input array.\n",
      "    N : int, optional\n",
      "        Number of columns in the output.  If `N` is not specified, a square\n",
      "        array is returned (``N = len(x)``).\n",
      "    increasing : bool, optional\n",
      "        Order of the powers of the columns.  If True, the powers increase\n",
      "        from left to right, if False (the default) they are reversed.\n",
      "    \n",
      "        .. versionadded:: 1.9.0\n",
      "    \n",
      "    Returns\n",
      "    -------\n",
      "    out : ndarray\n",
      "        Vandermonde matrix.  If `increasing` is False, the first column is\n",
      "        ``x^(N-1)``, the second ``x^(N-2)`` and so forth. If `increasing` is\n",
      "        True, the columns are ``x^0, x^1, ..., x^(N-1)``.\n",
      "    \n",
      "    See Also\n",
      "    --------\n",
      "    polynomial.polynomial.polyvander\n",
      "    \n",
      "    Examples\n",
      "    --------\n",
      "    >>> x = np.array([1, 2, 3, 5])\n",
      "    >>> N = 3\n",
      "    >>> np.vander(x, N)\n",
      "    array([[ 1,  1,  1],\n",
      "           [ 4,  2,  1],\n",
      "           [ 9,  3,  1],\n",
      "           [25,  5,  1]])\n",
      "    \n",
      "    >>> np.column_stack([x**(N-1-i) for i in range(N)])\n",
      "    array([[ 1,  1,  1],\n",
      "           [ 4,  2,  1],\n",
      "           [ 9,  3,  1],\n",
      "           [25,  5,  1]])\n",
      "    \n",
      "    >>> x = np.array([1, 2, 3, 5])\n",
      "    >>> np.vander(x)\n",
      "    array([[  1,   1,   1,   1],\n",
      "           [  8,   4,   2,   1],\n",
      "           [ 27,   9,   3,   1],\n",
      "           [125,  25,   5,   1]])\n",
      "    >>> np.vander(x, increasing=True)\n",
      "    array([[  1,   1,   1,   1],\n",
      "           [  1,   2,   4,   8],\n",
      "           [  1,   3,   9,  27],\n",
      "           [  1,   5,  25, 125]])\n",
      "    \n",
      "    The determinant of a square Vandermonde matrix is the product\n",
      "    of the differences between the values of the input vector:\n",
      "    \n",
      "    >>> np.linalg.det(np.vander(x))\n",
      "    48.000000000000043 # may vary\n",
      "    >>> (5-3)*(5-2)*(5-1)*(3-2)*(3-1)*(2-1)\n",
      "    48\n",
      "\n"
     ]
    }
   ],
   "source": [
    "help(np.vander)"
   ]
  },
  {
   "cell_type": "code",
   "execution_count": 10,
   "metadata": {},
   "outputs": [
    {
     "data": {
      "text/plain": [
       "array([[  1,   1,   1,   1,   1],\n",
       "       [ 16,   8,   4,   2,   1],\n",
       "       [ 81,  27,   9,   3,   1],\n",
       "       [256,  64,  16,   4,   1],\n",
       "       [625, 125,  25,   5,   1]])"
      ]
     },
     "execution_count": 10,
     "metadata": {},
     "output_type": "execute_result"
    }
   ],
   "source": [
    "np.vander(x,N,increasing=False)"
   ]
  },
  {
   "cell_type": "code",
   "execution_count": 23,
   "metadata": {},
   "outputs": [
    {
     "data": {
      "text/plain": [
       "array([[  1,   1,   1,   1,   1],\n",
       "       [ 16,   8,   4,   2,   1],\n",
       "       [ 81,  27,   9,   3,   1],\n",
       "       [256,  64,  16,   4,   1],\n",
       "       [625, 125,  25,   5,   1]], dtype=int32)"
      ]
     },
     "execution_count": 23,
     "metadata": {},
     "output_type": "execute_result"
    }
   ],
   "source": [
    "def fun1(x,N):\n",
    "    return np.column_stack([x**(N-i-1) for i in range(N)])\n",
    "fun1(x,N)"
   ]
  },
  {
   "cell_type": "code",
   "execution_count": 24,
   "metadata": {},
   "outputs": [],
   "source": [
    "x=[10,20,30,40,50,60,70,80,90,100]"
   ]
  },
  {
   "cell_type": "code",
   "execution_count": 50,
   "metadata": {},
   "outputs": [],
   "source": [
    "def fun2(x,k):\n",
    "    ma=[]\n",
    "    for i in range(len(x)-k+1):\n",
    "        avg=[]\n",
    "        for j in range(k):\n",
    "            avg.append(x[i+j])\n",
    "        ma.append(int(np.average(avg)))\n",
    "    return ma"
   ]
  },
  {
   "cell_type": "code",
   "execution_count": 52,
   "metadata": {},
   "outputs": [
    {
     "data": {
      "text/plain": [
       "[30, 40, 50, 60, 70, 80]"
      ]
     },
     "execution_count": 52,
     "metadata": {},
     "output_type": "execute_result"
    }
   ],
   "source": [
    "fun2(x,5)"
   ]
  },
  {
   "cell_type": "code",
   "execution_count": null,
   "metadata": {},
   "outputs": [],
   "source": []
  }
 ],
 "metadata": {
  "kernelspec": {
   "display_name": "Python 3",
   "language": "python",
   "name": "python3"
  },
  "language_info": {
   "codemirror_mode": {
    "name": "ipython",
    "version": 3
   },
   "file_extension": ".py",
   "mimetype": "text/x-python",
   "name": "python",
   "nbconvert_exporter": "python",
   "pygments_lexer": "ipython3",
   "version": "3.8.3"
  }
 },
 "nbformat": 4,
 "nbformat_minor": 4
}
